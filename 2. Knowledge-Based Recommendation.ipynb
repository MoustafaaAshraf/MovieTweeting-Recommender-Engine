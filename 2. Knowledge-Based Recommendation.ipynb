{
 "cells": [
  {
   "cell_type": "markdown",
   "metadata": {},
   "source": [
    "# Recommendations with MovieTweetings: Knowledge-Based \n",
    "\n",
    "**Recommending the most popular movies for all users.**\n"
   ]
  },
  {
   "cell_type": "code",
   "execution_count": 2,
   "metadata": {},
   "outputs": [],
   "source": [
    "import numpy as np\n",
    "import pandas as pd\n",
    "import matplotlib.pyplot as plt\n",
    "import tests as t\n",
    "\n",
    "%matplotlib inline\n",
    "\n",
    "# Read in the datasets\n",
    "movies = pd.read_csv('movies_clean.csv')\n",
    "reviews = pd.read_csv('reviews_clean.csv')\n",
    "del movies['Unnamed: 0']\n",
    "del reviews['Unnamed: 0']"
   ]
  },
  {
   "cell_type": "markdown",
   "metadata": {},
   "source": [
    "## Part I: How To Find The Most Popular Movies\n",
    "\n",
    "For this notebook, we have a single task.  The task is that no matter the user, we need to provide a list of the recommendations based on simply the most popular items.\n",
    "\n",
    "For this task, we will consider what is \"most popular\" based on the following criteria:\n",
    "\n",
    "* A movie with the highest average rating is considered best\n",
    "* With ties, movies that have more ratings are better\n",
    "* A movie must have a minimum of 5 ratings to be considered among the best movies\n",
    "* If movies are tied in their average rating and number of ratings, the ranking is determined by the movie that is the most recent rating\n",
    "\n",
    "With these criteria, the goal for this notebook is to take a **user_id** and provide back the **n_top** recommendations.  Use the function below as the scaffolding that will be used for all the future recommendations as well."
   ]
  },
  {
   "cell_type": "code",
   "execution_count": 3,
   "metadata": {},
   "outputs": [],
   "source": [
    "def popular_recommendations(movies, reviews):\n",
    "    '''\n",
    "    INPUT:\n",
    "    user_id - the user_id of the individual you are making recommendations for\n",
    "    n_top - an integer of the number recommendations you want back\n",
    "    OUTPUT:\n",
    "    top_movies - a list of the n_top recommended movies by movie title in order best to worst\n",
    "    '''\n",
    "    # Getting the average rating of all movies in an array with the movie id as an index\n",
    "    rats = pd.DataFrame(reviews.groupby('movie_id')['rating'].mean())\n",
    "    rats.columns = ['movie_rating']\n",
    "\n",
    "    # Getting the number of ratings for each movie\n",
    "    count = pd.DataFrame(reviews.groupby('movie_id')['rating'].count())\n",
    "    count.columns = ['rating_count']\n",
    "\n",
    "    # Getting the last rated movies\n",
    "    last_rated = pd.DataFrame(reviews.groupby('movie_id')['date'].max())\n",
    "    last_rated.columns = ['last_rated']\n",
    "\n",
    "    # Merging the three dataframes\n",
    "    rats_count = rats.merge(count, right_index=True, left_index=True)\n",
    "    rats_count_last = rats_count.merge(last_rated,\n",
    "                                       right_index=True,\n",
    "                                       left_index=True)\n",
    "\n",
    "    # Merge with the movies dataframe\n",
    "    top_movies = movies.merge(rats_count_last,\n",
    "                              left_on='movie_id',\n",
    "                              right_index=True)\n",
    "    top_movies = top_movies[top_movies['rating_count'] > 4]\n",
    "    \n",
    "    # Rank the movies by \n",
    "    # 1. Rating\n",
    "    # 2. Number of Ratings\n",
    "    # 3. By the latest rated\n",
    "    \n",
    "    top_movies = top_movies.sort_values(['movie_rating', 'rating_count', 'last_rated'], ascending=False)\n",
    "\n",
    "\n",
    "    \n",
    "    return top_movies\n",
    "\n",
    "def make_recs(user_id, n_top):\n",
    "    '''\n",
    "    returns a list of the names of popular movies recommended\n",
    "    '''\n",
    "    top_movies = popular_recommendations(movies, reviews)\n",
    "    # a list of the n_top movies as recommended\n",
    "    top_movies = list(top_movies['movie'][:n_top])\n",
    "    \n",
    "    return top_movies"
   ]
  },
  {
   "cell_type": "markdown",
   "metadata": {},
   "source": [
    "## Part II: Adding Filters\n",
    "\n",
    "Users usually would like to choose the popular movies within certain categories, like genre and year of release. In this part I will add a functionality to the script to enable the user to filter the most popular movies based on genre and year. "
   ]
  },
  {
   "cell_type": "code",
   "execution_count": 4,
   "metadata": {},
   "outputs": [],
   "source": [
    "def filtered_popular(movies, reviews, user_id, n_top, years = None, genres = None):\n",
    "    '''\n",
    "    a functions that returns a list of recommended criteria by the Genre and Year\n",
    "    '''\n",
    "    top_movies = popular_recommendations(movies, reviews)\n",
    "    \n",
    "    if genres is not None:\n",
    "        select = top_movies[genres].sum(axis=1)\n",
    "        top_movies = top_movies[select > 0]\n",
    "    \n",
    "    if years is not None:\n",
    "        top_movies = top_movies[top_movies['year'].isin(years)]\n",
    "        \n",
    "    \n",
    "        \n",
    "    top_movies = list(top_movies['movie'][:n_top])\n",
    "    \n",
    "    return top_movies"
   ]
  },
  {
   "cell_type": "code",
   "execution_count": null,
   "metadata": {},
   "outputs": [],
   "source": []
  }
 ],
 "metadata": {
  "kernelspec": {
   "display_name": "Python 3",
   "language": "python",
   "name": "python3"
  },
  "language_info": {
   "codemirror_mode": {
    "name": "ipython",
    "version": 3
   },
   "file_extension": ".py",
   "mimetype": "text/x-python",
   "name": "python",
   "nbconvert_exporter": "python",
   "pygments_lexer": "ipython3",
   "version": "3.8.5"
  },
  "toc": {
   "base_numbering": 1,
   "nav_menu": {},
   "number_sections": true,
   "sideBar": true,
   "skip_h1_title": true,
   "title_cell": "Table of Contents",
   "title_sidebar": "Contents",
   "toc_cell": false,
   "toc_position": {},
   "toc_section_display": true,
   "toc_window_display": true
  }
 },
 "nbformat": 4,
 "nbformat_minor": 2
}
